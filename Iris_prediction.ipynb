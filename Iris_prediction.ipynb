{
 "cells": [
  {
   "cell_type": "code",
   "execution_count": 9,
   "id": "19e2f6df-752f-40d5-ba9e-febada4dbb14",
   "metadata": {},
   "outputs": [
    {
     "name": "stdout",
     "output_type": "stream",
     "text": [
      "\n",
      "  There is a binary version available but the source version is later:\n",
      "      binary source needs_compilation\n",
      "e1071  1.7-6 1.7-13              TRUE\n",
      "\n",
      "  Binaries will be installed\n"
     ]
    },
    {
     "name": "stderr",
     "output_type": "stream",
     "text": [
      "Warning message:\n",
      "\"package 'e1071' is in use and will not be installed\""
     ]
    }
   ],
   "source": [
    "install.packages(\"e1071\")\n",
    "library(e1071)\n",
    "data(iris)"
   ]
  },
  {
   "cell_type": "code",
   "execution_count": 10,
   "id": "2fb5edb9-3914-4686-8131-3109bd56c5e9",
   "metadata": {},
   "outputs": [],
   "source": [
    "set.seed(123) # Set a random seed for reproducibility\n",
    "indexes <- sample(1:nrow(iris), size = 0.8 * nrow(iris)) # 80% for training, 20% for testing\n",
    "training_data <- iris[indexes, ]\n",
    "testing_data <- iris[-indexes, ]"
   ]
  },
  {
   "cell_type": "code",
   "execution_count": 11,
   "id": "d559c536-4968-42a7-98db-b7503cd95db3",
   "metadata": {},
   "outputs": [],
   "source": [
    "svm_model <- svm(Species ~ ., data = training_data, kernel = \"radial\", cost = 10, scale = TRUE)"
   ]
  },
  {
   "cell_type": "code",
   "execution_count": 12,
   "id": "4869a5a9-07c0-4016-bc10-2bd7e629e11d",
   "metadata": {},
   "outputs": [],
   "source": [
    "predicted_species <- predict(svm_model, newdata = testing_data)\n"
   ]
  },
  {
   "cell_type": "code",
   "execution_count": 13,
   "id": "cd187e63-635c-40ed-a9ed-805f5d540b68",
   "metadata": {},
   "outputs": [
    {
     "name": "stdout",
     "output_type": "stream",
     "text": [
      "            Actual\n",
      "Predicted    setosa versicolor virginica\n",
      "  setosa         10          0         0\n",
      "  versicolor      0         14         0\n",
      "  virginica       0          1         5\n",
      "Accuracy: 96.66667 %\n"
     ]
    }
   ],
   "source": [
    "confusion_matrix <- table(Predicted = predicted_species, Actual = testing_data$Species)\n",
    "print(confusion_matrix)\n",
    "\n",
    "accuracy <- sum(diag(confusion_matrix)) / sum(confusion_matrix)\n",
    "cat(\"Accuracy:\", accuracy * 100, \"%\\n\")\n"
   ]
  },
  {
   "cell_type": "code",
   "execution_count": 18,
   "id": "a6d2c37f-2729-47dc-ba5b-bb8afd93b339",
   "metadata": {},
   "outputs": [],
   "source": [
    "classify_iris <- function(new_data) {\n",
    "  if (!is.data.frame(new_data) || ncol(new_data) != 4) {\n",
    "    stop(\"Please provide a data frame with four columns (Sepal.Length, Sepal.Width, Petal.Length, Petal.Width).\")\n",
    "  }\n",
    "  colnames(new_data) <- c(\"Sepal.Length\", \"Sepal.Width\", \"Petal.Length\", \"Petal.Width\")\n",
    "  predicted_species_factor <- predict(svm_model, newdata = new_data)\n",
    "  return(levels(predicted_species_factor)[predicted_species_factor])\n",
    "}\n"
   ]
  },
  {
   "cell_type": "code",
   "execution_count": 17,
   "id": "418f5fac-2a2c-46ca-8092-1fc35d2e44a1",
   "metadata": {},
   "outputs": [
    {
     "name": "stdout",
     "output_type": "stream",
     "text": [
      "The predicted species is: setosa \n"
     ]
    }
   ],
   "source": [
    "new_data <- data.frame(Sepal.Length = 5.1, Sepal.Width = 3.5, Petal.Length = 1.4, Petal.Width = 0.2)\n",
    "result <- classify_iris(new_data)\n",
    "cat(\"The predicted species is:\", result, \"\\n\")"
   ]
  },
  {
   "cell_type": "code",
   "execution_count": null,
   "id": "070d85b5-52b3-4276-853a-276225ddc2a9",
   "metadata": {},
   "outputs": [],
   "source": []
  }
 ],
 "metadata": {
  "kernelspec": {
   "display_name": "R",
   "language": "R",
   "name": "ir"
  },
  "language_info": {
   "codemirror_mode": "r",
   "file_extension": ".r",
   "mimetype": "text/x-r-source",
   "name": "R",
   "pygments_lexer": "r",
   "version": "3.6.1"
  }
 },
 "nbformat": 4,
 "nbformat_minor": 5
}
